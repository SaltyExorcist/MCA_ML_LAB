{
 "cells": [
  {
   "cell_type": "markdown",
   "id": "6badee5e",
   "metadata": {},
   "source": [
    "### Python Exercise"
   ]
  },
  {
   "cell_type": "markdown",
   "id": "eb9e83b0",
   "metadata": {},
   "source": [
    "##### Q1. FInd the uncommon element in lists of list."
   ]
  },
  {
   "cell_type": "code",
   "execution_count": 6,
   "id": "e3377abe",
   "metadata": {},
   "outputs": [
    {
     "name": "stdout",
     "output_type": "stream",
     "text": [
      "Uncommon elements b/w two lists: [[5, 6], [5, 7]]\n"
     ]
    }
   ],
   "source": [
    "list1=[[1,2],[3,4],[5,6]]\n",
    "list2=[[3,4],[5,7],[1,2]]\n",
    "uncommon=[]\n",
    "for i in list1:\n",
    "    if i not in list2:\n",
    "        uncommon.append(i)\n",
    "\n",
    "for i in list2:\n",
    "    if i not in list1:\n",
    "        uncommon.append(i)\n",
    "print('Uncommon elements b/w two lists:',uncommon)"
   ]
  },
  {
   "cell_type": "code",
   "execution_count": 11,
   "id": "dd594ce3",
   "metadata": {},
   "outputs": [
    {
     "name": "stdout",
     "output_type": "stream",
     "text": [
      "No of unique elements in the array: 5\n"
     ]
    }
   ],
   "source": [
    "input_list=[1,2,2,5,8,4,4,8]\n",
    "emp=[]\n",
    "count=0\n",
    "for i in input_list:\n",
    "    if i not in emp:\n",
    "        count=count+1\n",
    "        emp.append(i) \n",
    "print('No of unique elements in the array:',count)"
   ]
  },
  {
   "cell_type": "code",
   "execution_count": 20,
   "id": "926e8ccf",
   "metadata": {},
   "outputs": [
    {
     "name": "stdout",
     "output_type": "stream",
     "text": [
      "1 2 3\n",
      "1 3 2\n",
      "2 1 3\n",
      "2 3 1\n",
      "3 1 2\n",
      "3 2 1\n"
     ]
    }
   ],
   "source": [
    "def comb(a):\n",
    "    for i in range(3):\n",
    "        for j in range(3):\n",
    "            for k in range(3):\n",
    "                if(i!=j and j!=k and i!=k):\n",
    "                    print(a[i],a[j],a[k])\n",
    "                    \n",
    "comb([1,2,3])"
   ]
  },
  {
   "cell_type": "code",
   "execution_count": 12,
   "id": "49f0695a",
   "metadata": {},
   "outputs": [
    {
     "name": "stdout",
     "output_type": "stream",
     "text": [
      "Common elements b/w two lists: [[1, 2], [3, 4], [3, 4], [1, 2]]\n"
     ]
    }
   ],
   "source": [
    "list1=[[1,2],[3,4],[5,6]]\n",
    "list2=[[3,4],[5,7],[1,2]]\n",
    "common=[]\n",
    "for i in list1:\n",
    "    if i in list2:\n",
    "        common.append(i)\n",
    "\n",
    "for i in list2:\n",
    "    if i in list1:\n",
    "        common.append(i)\n",
    "print('Common elements b/w two lists:',common)"
   ]
  },
  {
   "cell_type": "code",
   "execution_count": 15,
   "id": "2fa0b81a",
   "metadata": {},
   "outputs": [
    {
     "name": "stdout",
     "output_type": "stream",
     "text": [
      "Missing values in second list: {'b', 'c', 'a'}\n",
      "Additional values in second list: {'g', 'h'}\n"
     ]
    }
   ],
   "source": [
    "list1=['a','b','c','d','e','f']\n",
    "list2=['d','e','f','g','h']\n",
    "print('Missing values in second list:',set(list1)-set(list2))\n",
    "print('Additional values in second list:',set(list2)-set(list1))"
   ]
  },
  {
   "cell_type": "code",
   "execution_count": 19,
   "id": "f53a1f5c",
   "metadata": {},
   "outputs": [
    {
     "name": "stdout",
     "output_type": "stream",
     "text": [
      "['a', 'd', 'g', 'j']\n",
      "['b', 'e', 'h']\n",
      "['c', 'f', 'i']\n"
     ]
    }
   ],
   "source": [
    "C=['a','b','c','d','e','f','g','h','i','j']\n",
    "def slice_nth(arr, n):\n",
    "     for i in range(n):\n",
    "            print(arr[i::n])\n",
    "    \n",
    "slice_nth(C,3)"
   ]
  },
  {
   "cell_type": "code",
   "execution_count": 22,
   "id": "e6a65a73",
   "metadata": {},
   "outputs": [
    {
     "name": "stdout",
     "output_type": "stream",
     "text": [
      "[10, 11, 12]\n"
     ]
    }
   ],
   "source": [
    "list1=[[1,2,3],[4,5,6],[10,11,12],[7,8,9]]\n",
    "index = 0\n",
    "max_index = 0\n",
    "sum_max = 0\n",
    "for list in list1:\n",
    "    sum_list = 0\n",
    "    for x in list:\n",
    "        sum_list += x\n",
    "    if sum_list > sum_max:\n",
    "        sum_max = sum_list\n",
    "        max_index = index\n",
    "    index += 1\n",
    "print(list1[max_index])"
   ]
  },
  {
   "cell_type": "code",
   "execution_count": 26,
   "id": "9d6f846f",
   "metadata": {},
   "outputs": [
    {
     "name": "stdout",
     "output_type": "stream",
     "text": [
      "Enter the kth position element to remove:4\n",
      "List after removal: ['a', 'b', 'c', 'd', 'f']\n"
     ]
    }
   ],
   "source": [
    "list1=['a','b','c','d','e','f']\n",
    "k=int(input('Enter the kth position element to remove:'))\n",
    "list1.pop(k)\n",
    "print('List after removal:',list1)"
   ]
  },
  {
   "cell_type": "code",
   "execution_count": 36,
   "id": "8b28dd09",
   "metadata": {},
   "outputs": [
    {
     "name": "stdout",
     "output_type": "stream",
     "text": [
      "2\n"
     ]
    }
   ],
   "source": [
    "list1=[[1,2,3],[1,5,6],[10,11,12],[7,8,9]]\n",
    "ele=1\n",
    "count=0\n",
    "for list in list1:\n",
    "    for x in list:\n",
    "        if (ele == x):\n",
    "            count = count + 1\n",
    "print(count)"
   ]
  },
  {
   "cell_type": "code",
   "execution_count": 34,
   "id": "4c5559c0",
   "metadata": {},
   "outputs": [
    {
     "name": "stdout",
     "output_type": "stream",
     "text": [
      "Difference b/w consecutive numbers of the said list: [1, 3, 1, -3, 4]\n"
     ]
    }
   ],
   "source": [
    "input_list=[4,5,8,9,6,10]\n",
    "diff=[]\n",
    "for i in range(0,len(input_list)-1):\n",
    "    sub=0\n",
    "    sub=input_list[i+1]-input_list[i]\n",
    "    diff.append(sub) \n",
    "print('Difference b/w consecutive numbers of the said list:',diff)"
   ]
  },
  {
   "cell_type": "code",
   "execution_count": null,
   "id": "a36523f5",
   "metadata": {},
   "outputs": [],
   "source": []
  }
 ],
 "metadata": {
  "kernelspec": {
   "display_name": "Python 3 (ipykernel)",
   "language": "python",
   "name": "python3"
  },
  "language_info": {
   "codemirror_mode": {
    "name": "ipython",
    "version": 3
   },
   "file_extension": ".py",
   "mimetype": "text/x-python",
   "name": "python",
   "nbconvert_exporter": "python",
   "pygments_lexer": "ipython3",
   "version": "3.11.5"
  }
 },
 "nbformat": 4,
 "nbformat_minor": 5
}
