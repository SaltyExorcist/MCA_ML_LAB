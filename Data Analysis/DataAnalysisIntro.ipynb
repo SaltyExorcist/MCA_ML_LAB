{
 "cells": [
  {
   "cell_type": "markdown",
   "id": "cd9ecbc6-18fb-4428-9e6d-7b0e440cb348",
   "metadata": {},
   "source": [
    "### Python for Data Analysis and Machine Learning"
   ]
  },
  {
   "cell_type": "markdown",
   "id": "a0533f49-96d9-4429-99c5-ea493778d10d",
   "metadata": {},
   "source": [
    "#### Numpy"
   ]
  },
  {
   "cell_type": "code",
   "execution_count": 3,
   "id": "9d3c9c18-5b56-46c8-a152-cca144105394",
   "metadata": {
    "tags": []
   },
   "outputs": [
    {
     "name": "stdout",
     "output_type": "stream",
     "text": [
      "A numpy array: [ 1.   2.  -1.3]\n"
     ]
    }
   ],
   "source": [
    "import numpy as np\n",
    "nums=[1,2.0,-1.3]\n",
    "arr=np.array(nums)\n",
    "print(f'A numpy array: {arr}')"
   ]
  },
  {
   "cell_type": "code",
   "execution_count": 6,
   "id": "4d150a08-0dac-4819-9a4a-89acd7b06a2e",
   "metadata": {
    "tags": []
   },
   "outputs": [
    {
     "name": "stdout",
     "output_type": "stream",
     "text": [
      "A list of lists: \n",
      "([1, 2.0, -1.3], [-2.3, -4, 6])\n"
     ]
    }
   ],
   "source": [
    "nums2=[-2.3,-4,6]\n",
    "arr2=np.array([nums,nums2])\n",
    "print(f'A list of lists: \\n{nums,nums2}')"
   ]
  },
  {
   "cell_type": "code",
   "execution_count": 7,
   "id": "5b46cac3-7373-4515-acae-eb42554d146e",
   "metadata": {
    "tags": []
   },
   "outputs": [
    {
     "name": "stdout",
     "output_type": "stream",
     "text": [
      "A numpy 2D array: \n",
      "[[ 1.   2.  -1.3]\n",
      " [-2.3 -4.   6. ]]\n"
     ]
    }
   ],
   "source": [
    "print(f'A numpy 2D array: \\n{arr2}')"
   ]
  },
  {
   "cell_type": "markdown",
   "id": "12bbe087-fbe7-40d9-b799-6d90154470ad",
   "metadata": {},
   "source": [
    "#### ndarray math"
   ]
  },
  {
   "cell_type": "code",
   "execution_count": 11,
   "id": "3def196b-cb64-4e19-9100-2946872f37d0",
   "metadata": {
    "tags": []
   },
   "outputs": [
    {
     "name": "stdout",
     "output_type": "stream",
     "text": [
      "[-3 -3 -3 -3]\n"
     ]
    }
   ],
   "source": [
    "a=np.array([1,2,3,4])\n",
    "b=np.array([4,5,6,7])\n",
    "print(a-b)"
   ]
  },
  {
   "cell_type": "code",
   "execution_count": 12,
   "id": "e5808b64-90f5-482e-b305-7f0f8624f751",
   "metadata": {
    "tags": []
   },
   "outputs": [
    {
     "name": "stdout",
     "output_type": "stream",
     "text": [
      "<class 'numpy.ndarray'>\n"
     ]
    }
   ],
   "source": [
    "c=a/b\n",
    "print(type(c))"
   ]
  },
  {
   "cell_type": "code",
   "execution_count": 14,
   "id": "de35895b-a3a3-44d7-9950-235c8c607c0c",
   "metadata": {
    "tags": []
   },
   "outputs": [
    {
     "name": "stdout",
     "output_type": "stream",
     "text": [
      "[ 4 10 18 28]\n"
     ]
    }
   ],
   "source": [
    "c=a*b\n",
    "print(c)"
   ]
  },
  {
   "cell_type": "code",
   "execution_count": 15,
   "id": "5ec4dfce-845e-479c-8330-d6b5452987cb",
   "metadata": {
    "tags": []
   },
   "outputs": [
    {
     "name": "stdout",
     "output_type": "stream",
     "text": [
      "[ 5  7  9 11]\n"
     ]
    }
   ],
   "source": [
    "c=a+b\n",
    "print(c)"
   ]
  },
  {
   "cell_type": "code",
   "execution_count": 16,
   "id": "81d602a0-6b98-4ad9-bb60-1579b14667a9",
   "metadata": {
    "tags": []
   },
   "outputs": [
    {
     "name": "stdout",
     "output_type": "stream",
     "text": [
      "[-3 -3 -3 -3]\n"
     ]
    }
   ],
   "source": [
    "c=a-b\n",
    "print(c)"
   ]
  },
  {
   "cell_type": "code",
   "execution_count": 17,
   "id": "008d541e-8267-4152-b13f-9f7cab064a48",
   "metadata": {
    "tags": []
   },
   "outputs": [
    {
     "name": "stdout",
     "output_type": "stream",
     "text": [
      "[0.25       0.4        0.5        0.57142857]\n"
     ]
    }
   ],
   "source": [
    "c=a/b\n",
    "print(c)"
   ]
  },
  {
   "cell_type": "code",
   "execution_count": 18,
   "id": "967a1365-7edd-46e5-9c64-36751da8364e",
   "metadata": {
    "tags": []
   },
   "outputs": [
    {
     "data": {
      "text/plain": [
       "array([-2, -4, -6, -8])"
      ]
     },
     "execution_count": 18,
     "metadata": {},
     "output_type": "execute_result"
    }
   ],
   "source": [
    "#Broadcasting\n",
    "-2*a"
   ]
  },
  {
   "cell_type": "code",
   "execution_count": 19,
   "id": "19e5cafb-0e81-4044-ae4d-783a9c6d5cb8",
   "metadata": {
    "tags": []
   },
   "outputs": [
    {
     "data": {
      "text/plain": [
       "array([14, 21, 30, 41])"
      ]
     },
     "execution_count": 19,
     "metadata": {},
     "output_type": "execute_result"
    }
   ],
   "source": [
    "#Combinations...\n",
    "-2*a+b**2"
   ]
  },
  {
   "cell_type": "code",
   "execution_count": 49,
   "id": "7612b031-86d3-4f2e-877d-6b09b282cd95",
   "metadata": {
    "tags": []
   },
   "outputs": [
    {
     "data": {
      "text/plain": [
       "array([[11, 22, 33, 44],\n",
       "       [14, 25, 36, 47],\n",
       "       [11, 21, 31, 41],\n",
       "       [12, 22, 32, 42]])"
      ]
     },
     "execution_count": 49,
     "metadata": {},
     "output_type": "execute_result"
    }
   ],
   "source": [
    "a=np.array([10,20,30,40])\n",
    "b=np.array([[1,2,3,4],\n",
    "          [4,5,6,7,],\n",
    "          [1,1,1,1],\n",
    "          [2,2,2,2]])\n",
    "a+b"
   ]
  },
  {
   "cell_type": "markdown",
   "id": "657679a3-bea7-4ef5-bb35-80a09928fdc8",
   "metadata": {},
   "source": [
    "#### ndarray sizes and reshaping"
   ]
  },
  {
   "cell_type": "code",
   "execution_count": 22,
   "id": "e73752fa-922f-4946-82ed-3f84b089ed84",
   "metadata": {
    "tags": []
   },
   "outputs": [
    {
     "data": {
      "text/plain": [
       "4"
      ]
     },
     "execution_count": 22,
     "metadata": {},
     "output_type": "execute_result"
    }
   ],
   "source": [
    "a.size"
   ]
  },
  {
   "cell_type": "code",
   "execution_count": 23,
   "id": "c33761bc-2a1c-4f15-b0f8-70899b5a3934",
   "metadata": {
    "tags": []
   },
   "outputs": [
    {
     "data": {
      "text/plain": [
       "16"
      ]
     },
     "execution_count": 23,
     "metadata": {},
     "output_type": "execute_result"
    }
   ],
   "source": [
    "b.size"
   ]
  },
  {
   "cell_type": "code",
   "execution_count": 27,
   "id": "0ad3fd3e-b425-4d18-b7c9-6548e3384664",
   "metadata": {
    "tags": []
   },
   "outputs": [
    {
     "data": {
      "text/plain": [
       "(4,)"
      ]
     },
     "execution_count": 27,
     "metadata": {},
     "output_type": "execute_result"
    }
   ],
   "source": [
    "a.shape"
   ]
  },
  {
   "cell_type": "code",
   "execution_count": 28,
   "id": "f777af79-8738-4d23-8b95-cb41db83e757",
   "metadata": {
    "tags": []
   },
   "outputs": [
    {
     "data": {
      "text/plain": [
       "(4, 4)"
      ]
     },
     "execution_count": 28,
     "metadata": {},
     "output_type": "execute_result"
    }
   ],
   "source": [
    "b.shape"
   ]
  },
  {
   "cell_type": "code",
   "execution_count": 34,
   "id": "ff445575-3bbc-4bd9-86dd-ab3655e2d1e3",
   "metadata": {
    "tags": []
   },
   "outputs": [
    {
     "data": {
      "text/plain": [
       "(9,)"
      ]
     },
     "execution_count": 34,
     "metadata": {},
     "output_type": "execute_result"
    }
   ],
   "source": [
    "d=np.array([1,2,3,4,5,6,7,8,9])\n",
    "d.shape"
   ]
  },
  {
   "cell_type": "code",
   "execution_count": 35,
   "id": "b88a8e5a-79bb-4023-ad88-6681ee92f9bc",
   "metadata": {
    "tags": []
   },
   "outputs": [
    {
     "data": {
      "text/plain": [
       "(3, 3)"
      ]
     },
     "execution_count": 35,
     "metadata": {},
     "output_type": "execute_result"
    }
   ],
   "source": [
    "d_2d=d.reshape((3,3))\n",
    "d_2d.shape"
   ]
  },
  {
   "cell_type": "code",
   "execution_count": 38,
   "id": "a4d64460-1c5a-4ad8-948f-00cf5d9ac561",
   "metadata": {
    "tags": []
   },
   "outputs": [
    {
     "data": {
      "text/plain": [
       "(1, 9)"
      ]
     },
     "execution_count": 38,
     "metadata": {},
     "output_type": "execute_result"
    }
   ],
   "source": [
    "d_col=d.reshape((1,9))\n",
    "d_col.shape"
   ]
  },
  {
   "cell_type": "code",
   "execution_count": 42,
   "id": "5c7918cc-7fca-48c1-a735-2f1cd676a8bf",
   "metadata": {
    "tags": []
   },
   "outputs": [
    {
     "data": {
      "text/plain": [
       "(9, 1)"
      ]
     },
     "execution_count": 42,
     "metadata": {},
     "output_type": "execute_result"
    }
   ],
   "source": [
    "#Transpose it\n",
    "d_row=d_col.T\n",
    "d_row.shape"
   ]
  },
  {
   "cell_type": "code",
   "execution_count": 40,
   "id": "d27f4ffc-0514-4a93-9999-410ff65a29a0",
   "metadata": {
    "tags": []
   },
   "outputs": [
    {
     "data": {
      "text/plain": [
       "9"
      ]
     },
     "execution_count": 40,
     "metadata": {},
     "output_type": "execute_result"
    }
   ],
   "source": [
    "d_3d=d.reshape((1,3,3))\n",
    "d_3d.size"
   ]
  },
  {
   "cell_type": "code",
   "execution_count": 41,
   "id": "66480f4c-4621-4d3d-a39c-5e2cac99ded3",
   "metadata": {
    "tags": []
   },
   "outputs": [
    {
     "data": {
      "text/plain": [
       "(1, 3, 3)"
      ]
     },
     "execution_count": 41,
     "metadata": {},
     "output_type": "execute_result"
    }
   ],
   "source": [
    "d_3d.shape"
   ]
  },
  {
   "cell_type": "code",
   "execution_count": 43,
   "id": "19a841a2-bfba-474c-8257-5e68df37cfe4",
   "metadata": {
    "tags": []
   },
   "outputs": [
    {
     "data": {
      "text/plain": [
       "array([[1, 2, 3, 4, 5, 6, 7, 8, 9]])"
      ]
     },
     "execution_count": 43,
     "metadata": {},
     "output_type": "execute_result"
    }
   ],
   "source": [
    "d_col"
   ]
  },
  {
   "cell_type": "code",
   "execution_count": 44,
   "id": "30e5fa6c-ea3a-45e3-8034-7e0cb4b347e4",
   "metadata": {
    "tags": []
   },
   "outputs": [
    {
     "data": {
      "text/plain": [
       "array([[1],\n",
       "       [2],\n",
       "       [3],\n",
       "       [4],\n",
       "       [5],\n",
       "       [6],\n",
       "       [7],\n",
       "       [8],\n",
       "       [9]])"
      ]
     },
     "execution_count": 44,
     "metadata": {},
     "output_type": "execute_result"
    }
   ],
   "source": [
    "d_row"
   ]
  },
  {
   "cell_type": "code",
   "execution_count": 45,
   "id": "c01b4eb0-e4ba-4ef4-8dce-a6c5f153722d",
   "metadata": {
    "tags": []
   },
   "outputs": [
    {
     "data": {
      "text/plain": [
       "array([[1, 2, 3],\n",
       "       [4, 5, 6],\n",
       "       [7, 8, 9]])"
      ]
     },
     "execution_count": 45,
     "metadata": {},
     "output_type": "execute_result"
    }
   ],
   "source": [
    "d_2d"
   ]
  },
  {
   "cell_type": "code",
   "execution_count": 46,
   "id": "34b3b325-a830-47d6-80d3-277ada667c85",
   "metadata": {
    "tags": []
   },
   "outputs": [
    {
     "data": {
      "text/plain": [
       "array([[[1, 2, 3],\n",
       "        [4, 5, 6],\n",
       "        [7, 8, 9]]])"
      ]
     },
     "execution_count": 46,
     "metadata": {},
     "output_type": "execute_result"
    }
   ],
   "source": [
    "d_3d"
   ]
  },
  {
   "cell_type": "code",
   "execution_count": 52,
   "id": "64c385fb-c79a-4bde-af2a-0ad8d33ffa51",
   "metadata": {
    "tags": []
   },
   "outputs": [
    {
     "data": {
      "text/plain": [
       "array([[11, 12, 13, 14],\n",
       "       [24, 25, 26, 27],\n",
       "       [31, 31, 31, 31],\n",
       "       [42, 42, 42, 42]])"
      ]
     },
     "execution_count": 52,
     "metadata": {},
     "output_type": "execute_result"
    }
   ],
   "source": [
    "# A vector is always treated as a row. If you want to do operations by columns,make the vector a 2D array where one dimension is of size 1\n",
    "a=np.array([10,20,30,40]).reshape((4,1))\n",
    "b=np.array([[1,2,3,4],\n",
    "          [4,5,6,7,],\n",
    "          [1,1,1,1],\n",
    "          [2,2,2,2]])\n",
    "a+b"
   ]
  },
  {
   "cell_type": "code",
   "execution_count": 53,
   "id": "92a0896c-eba9-4d61-b974-9ff86d5e1105",
   "metadata": {
    "tags": []
   },
   "outputs": [
    {
     "data": {
      "text/plain": [
       "array([[11, 22, 33, 44],\n",
       "       [14, 25, 36, 47],\n",
       "       [11, 21, 31, 41],\n",
       "       [12, 22, 32, 42]])"
      ]
     },
     "execution_count": 53,
     "metadata": {},
     "output_type": "execute_result"
    }
   ],
   "source": [
    "a.T+b"
   ]
  },
  {
   "cell_type": "markdown",
   "id": "abc7b1e9-6b0f-47d9-84c4-825df613c332",
   "metadata": {},
   "source": [
    "#### Multiplication"
   ]
  },
  {
   "cell_type": "code",
   "execution_count": 54,
   "id": "d9631f40-a07a-494d-8bcb-3c2ba620f299",
   "metadata": {
    "tags": []
   },
   "outputs": [
    {
     "data": {
      "text/plain": [
       "array([[4, 1],\n",
       "       [2, 2]])"
      ]
     },
     "execution_count": 54,
     "metadata": {},
     "output_type": "execute_result"
    }
   ],
   "source": [
    "a=np.array([[1,0],[0,1]])\n",
    "b=np.array([[4,1],[2,2]])\n",
    "np.dot(a,b)"
   ]
  },
  {
   "cell_type": "code",
   "execution_count": 55,
   "id": "589aa463-e269-4d4c-b3e8-4c29d3886821",
   "metadata": {
    "tags": []
   },
   "outputs": [
    {
     "data": {
      "text/plain": [
       "array([[4, 1],\n",
       "       [2, 2]])"
      ]
     },
     "execution_count": 55,
     "metadata": {},
     "output_type": "execute_result"
    }
   ],
   "source": [
    "a@b"
   ]
  },
  {
   "cell_type": "code",
   "execution_count": 56,
   "id": "fd081934-c98c-4028-84a3-591df8835393",
   "metadata": {
    "tags": []
   },
   "outputs": [
    {
     "data": {
      "text/plain": [
       "array([ 1, -2])"
      ]
     },
     "execution_count": 56,
     "metadata": {},
     "output_type": "execute_result"
    }
   ],
   "source": [
    "np.cross(a,b)"
   ]
  },
  {
   "cell_type": "code",
   "execution_count": 57,
   "id": "5baf10c5-e426-4b75-adc4-e3b2e645c407",
   "metadata": {
    "tags": []
   },
   "outputs": [
    {
     "data": {
      "text/plain": [
       "dtype('int32')"
      ]
     },
     "execution_count": 57,
     "metadata": {},
     "output_type": "execute_result"
    }
   ],
   "source": [
    "a.dtype"
   ]
  },
  {
   "cell_type": "code",
   "execution_count": 58,
   "id": "9397bf9a-7afd-45f2-825d-929318c8b535",
   "metadata": {
    "tags": []
   },
   "outputs": [
    {
     "data": {
      "text/plain": [
       "dtype('int32')"
      ]
     },
     "execution_count": 58,
     "metadata": {},
     "output_type": "execute_result"
    }
   ],
   "source": [
    "b.dtype"
   ]
  },
  {
   "cell_type": "code",
   "execution_count": 63,
   "id": "555f1654-ad1c-4e23-9b92-409c42f3c192",
   "metadata": {
    "tags": []
   },
   "outputs": [
    {
     "data": {
      "text/plain": [
       "dtype('float64')"
      ]
     },
     "execution_count": 63,
     "metadata": {},
     "output_type": "execute_result"
    }
   ],
   "source": [
    "b=b.astype('float64')\n",
    "b.dtype"
   ]
  },
  {
   "cell_type": "markdown",
   "id": "3da6fc73",
   "metadata": {},
   "source": [
    "#### ndarray from numpy initialization"
   ]
  },
  {
   "cell_type": "code",
   "execution_count": 1,
   "id": "d5db3789",
   "metadata": {},
   "outputs": [
    {
     "name": "stdout",
     "output_type": "stream",
     "text": [
      "[0. 0. 0. 0. 0.]\n"
     ]
    }
   ],
   "source": [
    "import numpy as np\n",
    "arrex1=np.zeros(5)\n",
    "print(arrex1)"
   ]
  },
  {
   "cell_type": "code",
   "execution_count": 2,
   "id": "10e6beed",
   "metadata": {},
   "outputs": [
    {
     "name": "stdout",
     "output_type": "stream",
     "text": [
      "[0. 0. 0. 0. 0.]\n"
     ]
    }
   ],
   "source": [
    "arrex2=np.zeros([5,])\n",
    "print(arrex2)"
   ]
  },
  {
   "cell_type": "code",
   "execution_count": 3,
   "id": "dfafeb52",
   "metadata": {},
   "outputs": [
    {
     "name": "stdout",
     "output_type": "stream",
     "text": [
      "[[0. 0. 0. 0. 0.]\n",
      " [0. 0. 0. 0. 0.]\n",
      " [0. 0. 0. 0. 0.]\n",
      " [0. 0. 0. 0. 0.]\n",
      " [0. 0. 0. 0. 0.]]\n"
     ]
    }
   ],
   "source": [
    "arrex2=np.zeros([5,5])\n",
    "print(arrex2)"
   ]
  },
  {
   "cell_type": "code",
   "execution_count": 5,
   "id": "266a0f7d",
   "metadata": {},
   "outputs": [
    {
     "data": {
      "text/plain": [
       "array([[1., 0., 0.],\n",
       "       [0., 1., 0.],\n",
       "       [0., 0., 1.]])"
      ]
     },
     "execution_count": 5,
     "metadata": {},
     "output_type": "execute_result"
    }
   ],
   "source": [
    "np.identity(3)"
   ]
  },
  {
   "cell_type": "code",
   "execution_count": 7,
   "id": "1f874131",
   "metadata": {},
   "outputs": [
    {
     "data": {
      "text/plain": [
       "array([[1., 1.],\n",
       "       [1., 1.],\n",
       "       [1., 1.],\n",
       "       [1., 1.],\n",
       "       [1., 1.]])"
      ]
     },
     "execution_count": 7,
     "metadata": {},
     "output_type": "execute_result"
    }
   ],
   "source": [
    "np.ones((5,2))"
   ]
  },
  {
   "cell_type": "code",
   "execution_count": 8,
   "id": "815a44a1",
   "metadata": {},
   "outputs": [
    {
     "data": {
      "text/plain": [
       "array([[inf, inf],\n",
       "       [inf, inf]])"
      ]
     },
     "execution_count": 8,
     "metadata": {},
     "output_type": "execute_result"
    }
   ],
   "source": [
    "np.full((2,2),np.inf)"
   ]
  },
  {
   "cell_type": "code",
   "execution_count": 13,
   "id": "490bc327",
   "metadata": {},
   "outputs": [
    {
     "data": {
      "text/plain": [
       "array([[1, 2],\n",
       "       [1, 2]])"
      ]
     },
     "execution_count": 13,
     "metadata": {},
     "output_type": "execute_result"
    }
   ],
   "source": [
    "np.full((2,2),[1,2])"
   ]
  },
  {
   "cell_type": "markdown",
   "id": "fa2bf0c7",
   "metadata": {},
   "source": [
    "#### ndarray indexing"
   ]
  },
  {
   "cell_type": "code",
   "execution_count": 14,
   "id": "b7815bea",
   "metadata": {},
   "outputs": [],
   "source": [
    "oneD=np.array([1,2,3,4])\n",
    "twoD=oneD.reshape([2,2])"
   ]
  },
  {
   "cell_type": "code",
   "execution_count": 15,
   "id": "58b0a401",
   "metadata": {},
   "outputs": [
    {
     "data": {
      "text/plain": [
       "array([[1, 2],\n",
       "       [3, 4]])"
      ]
     },
     "execution_count": 15,
     "metadata": {},
     "output_type": "execute_result"
    }
   ],
   "source": [
    "twoD"
   ]
  },
  {
   "cell_type": "code",
   "execution_count": 16,
   "id": "2fbc63a2",
   "metadata": {},
   "outputs": [
    {
     "data": {
      "text/plain": [
       "1"
      ]
     },
     "execution_count": 16,
     "metadata": {},
     "output_type": "execute_result"
    }
   ],
   "source": [
    "oneD[0]"
   ]
  },
  {
   "cell_type": "code",
   "execution_count": 17,
   "id": "11f22279",
   "metadata": {},
   "outputs": [
    {
     "data": {
      "text/plain": [
       "4"
      ]
     },
     "execution_count": 17,
     "metadata": {},
     "output_type": "execute_result"
    }
   ],
   "source": [
    "oneD[3]"
   ]
  },
  {
   "cell_type": "code",
   "execution_count": 18,
   "id": "92d983b9",
   "metadata": {},
   "outputs": [
    {
     "data": {
      "text/plain": [
       "4"
      ]
     },
     "execution_count": 18,
     "metadata": {},
     "output_type": "execute_result"
    }
   ],
   "source": [
    "oneD[-1]"
   ]
  },
  {
   "cell_type": "code",
   "execution_count": 19,
   "id": "96eec4b0",
   "metadata": {},
   "outputs": [
    {
     "data": {
      "text/plain": [
       "3"
      ]
     },
     "execution_count": 19,
     "metadata": {},
     "output_type": "execute_result"
    }
   ],
   "source": [
    "oneD[-2]"
   ]
  },
  {
   "cell_type": "code",
   "execution_count": 20,
   "id": "73d3bcff",
   "metadata": {},
   "outputs": [
    {
     "data": {
      "text/plain": [
       "1"
      ]
     },
     "execution_count": 20,
     "metadata": {},
     "output_type": "execute_result"
    }
   ],
   "source": [
    "twoD[0,0]"
   ]
  },
  {
   "cell_type": "code",
   "execution_count": 21,
   "id": "a86c49fd",
   "metadata": {},
   "outputs": [
    {
     "data": {
      "text/plain": [
       "3"
      ]
     },
     "execution_count": 21,
     "metadata": {},
     "output_type": "execute_result"
    }
   ],
   "source": [
    "twoD[1,0]"
   ]
  },
  {
   "cell_type": "markdown",
   "id": "8b030bf8",
   "metadata": {},
   "source": [
    "#### ndarray slicing"
   ]
  },
  {
   "cell_type": "code",
   "execution_count": 23,
   "id": "ee244a04",
   "metadata": {},
   "outputs": [],
   "source": [
    "y=np.arange(50,300,50)"
   ]
  },
  {
   "cell_type": "code",
   "execution_count": 30,
   "id": "ce125efd",
   "metadata": {},
   "outputs": [
    {
     "name": "stdout",
     "output_type": "stream",
     "text": [
      "[ 50 100 150]\n"
     ]
    }
   ],
   "source": [
    "print(y[0:3])"
   ]
  },
  {
   "cell_type": "code",
   "execution_count": 41,
   "id": "a8b7bb7c",
   "metadata": {},
   "outputs": [
    {
     "name": "stdout",
     "output_type": "stream",
     "text": [
      "[250 200]\n"
     ]
    }
   ],
   "source": [
    "print(y[-1:-3:-1])"
   ]
  },
  {
   "cell_type": "code",
   "execution_count": 32,
   "id": "7fde255a",
   "metadata": {},
   "outputs": [],
   "source": [
    "x=np.arange(10,130,10).reshape(4,3)"
   ]
  },
  {
   "cell_type": "code",
   "execution_count": 43,
   "id": "bb643a28",
   "metadata": {},
   "outputs": [
    {
     "name": "stdout",
     "output_type": "stream",
     "text": [
      "[ 10  40  70 100]\n"
     ]
    }
   ],
   "source": [
    "print(x[:,0])"
   ]
  },
  {
   "cell_type": "code",
   "execution_count": 34,
   "id": "d99fed2b",
   "metadata": {},
   "outputs": [
    {
     "name": "stdout",
     "output_type": "stream",
     "text": [
      "[[ 80  90]\n",
      " [110 120]]\n"
     ]
    }
   ],
   "source": [
    "print(x[2:4,1:3])"
   ]
  },
  {
   "cell_type": "code",
   "execution_count": 52,
   "id": "e6107f3e",
   "metadata": {},
   "outputs": [],
   "source": [
    "y[0:3]=-1\n",
    "y[0:8]=-1"
   ]
  },
  {
   "cell_type": "code",
   "execution_count": 53,
   "id": "c5f8ab33",
   "metadata": {},
   "outputs": [
    {
     "name": "stdout",
     "output_type": "stream",
     "text": [
      "[-1 -1 -1 -1 -1]\n"
     ]
    }
   ],
   "source": [
    "print(y)"
   ]
  },
  {
   "cell_type": "code",
   "execution_count": 55,
   "id": "54fef2fc",
   "metadata": {},
   "outputs": [
    {
     "name": "stdout",
     "output_type": "stream",
     "text": [
      "[40 50 -1 -1 -1]\n"
     ]
    }
   ],
   "source": [
    "x=np.array([10,20,30,40,50,60])\n",
    "y[0:2]=x[3:5]\n",
    "print(y)"
   ]
  },
  {
   "cell_type": "code",
   "execution_count": 58,
   "id": "35a4b1c2",
   "metadata": {},
   "outputs": [
    {
     "name": "stdout",
     "output_type": "stream",
     "text": [
      "[-1.  -0.5  0.   0.5  1. ]\n"
     ]
    }
   ],
   "source": [
    "a=np.linspace(-1,1,5)\n",
    "print(a)"
   ]
  },
  {
   "cell_type": "code",
   "execution_count": 59,
   "id": "b4dcd949",
   "metadata": {},
   "outputs": [],
   "source": [
    "b=np.array([0,1,2])"
   ]
  },
  {
   "cell_type": "code",
   "execution_count": 60,
   "id": "4bcec037",
   "metadata": {},
   "outputs": [
    {
     "name": "stdout",
     "output_type": "stream",
     "text": [
      "[-1.  -0.5  0. ]\n"
     ]
    }
   ],
   "source": [
    "print(a[b])"
   ]
  },
  {
   "cell_type": "code",
   "execution_count": 61,
   "id": "5d16792c",
   "metadata": {},
   "outputs": [
    {
     "name": "stdout",
     "output_type": "stream",
     "text": [
      "[-1.   0.   0.5]\n"
     ]
    }
   ],
   "source": [
    "c=np.array([True,False,True,True,False])\n",
    "print(a[c])"
   ]
  },
  {
   "cell_type": "code",
   "execution_count": 62,
   "id": "15fbd373",
   "metadata": {},
   "outputs": [
    {
     "data": {
      "text/plain": [
       "(array([0, 1, 2], dtype=int64),)"
      ]
     },
     "execution_count": 62,
     "metadata": {},
     "output_type": "execute_result"
    }
   ],
   "source": [
    "np.where(a<=0)"
   ]
  },
  {
   "cell_type": "code",
   "execution_count": 63,
   "id": "161fab87",
   "metadata": {},
   "outputs": [
    {
     "data": {
      "text/plain": [
       "array([ 1. ,  0.5, -0. , 10. , 20. ])"
      ]
     },
     "execution_count": 63,
     "metadata": {},
     "output_type": "execute_result"
    }
   ],
   "source": [
    "np.where(a<=0,-a,20*a)"
   ]
  },
  {
   "cell_type": "code",
   "execution_count": null,
   "id": "cad5e235",
   "metadata": {},
   "outputs": [],
   "source": []
  }
 ],
 "metadata": {
  "kernelspec": {
   "display_name": "Python 3 (ipykernel)",
   "language": "python",
   "name": "python3"
  },
  "language_info": {
   "codemirror_mode": {
    "name": "ipython",
    "version": 3
   },
   "file_extension": ".py",
   "mimetype": "text/x-python",
   "name": "python",
   "nbconvert_exporter": "python",
   "pygments_lexer": "ipython3",
   "version": "3.11.5"
  }
 },
 "nbformat": 4,
 "nbformat_minor": 5
}
