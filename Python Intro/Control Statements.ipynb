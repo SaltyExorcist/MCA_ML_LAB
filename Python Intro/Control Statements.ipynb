{
 "cells": [
  {
   "cell_type": "markdown",
   "id": "a13a31a7",
   "metadata": {},
   "source": [
    "### Control Statements"
   ]
  },
  {
   "cell_type": "code",
   "execution_count": 4,
   "id": "2f89c2dd",
   "metadata": {},
   "outputs": [
    {
     "name": "stdout",
     "output_type": "stream",
     "text": [
      "Launch a missile\n"
     ]
    }
   ],
   "source": [
    "y=0.1*3\n",
    "if(y!=0.3):\n",
    "    print(\"Launch a missile\")\n",
    "else:\n",
    "    print(\"Let's have peace\")"
   ]
  },
  {
   "cell_type": "markdown",
   "id": "ffc33f33",
   "metadata": {},
   "source": [
    "#### Question 1"
   ]
  },
  {
   "cell_type": "code",
   "execution_count": 6,
   "id": "c9a18d32",
   "metadata": {},
   "outputs": [
    {
     "name": "stdout",
     "output_type": "stream",
     "text": [
      "Enter a no:6\n",
      "It is an even no.\n"
     ]
    }
   ],
   "source": [
    "num=int(input(\"Enter a no:\"))\n",
    "if(num%2==0):\n",
    "    print(\"It is an even no.\")\n",
    "else:\n",
    "    print(\"It is an odd no.\")"
   ]
  },
  {
   "cell_type": "markdown",
   "id": "29da9d95",
   "metadata": {},
   "source": [
    "#### Question 2"
   ]
  },
  {
   "cell_type": "code",
   "execution_count": 9,
   "id": "ce5dc34c",
   "metadata": {},
   "outputs": [
    {
     "name": "stdout",
     "output_type": "stream",
     "text": [
      "Enter a no:-3\n",
      "It is a negative no.\n"
     ]
    }
   ],
   "source": [
    "num=int(input(\"Enter a no:\"))\n",
    "if(num>0):\n",
    "    print(\"It is a positive no.\")\n",
    "elif(num==0):\n",
    "    print(\"It is 0.\")\n",
    "else:\n",
    "    print(\"It is a negative no.\")"
   ]
  },
  {
   "cell_type": "markdown",
   "id": "292209ca",
   "metadata": {},
   "source": [
    "#### Question 3"
   ]
  },
  {
   "cell_type": "code",
   "execution_count": 17,
   "id": "29380f35",
   "metadata": {},
   "outputs": [
    {
     "name": "stdout",
     "output_type": "stream",
     "text": [
      "Enter marks in first subject:70\n",
      "Enter marks in second subject:75\n",
      "Enter marks in third subject:55\n",
      "Enter marks in fourth subject:91\n",
      "Enter marks in fifth subject:67\n",
      "Percentage: 71.6 %\n",
      "Division: Class-I\n"
     ]
    }
   ],
   "source": [
    "sub1=int(input(\"Enter marks in first subject:\"))\n",
    "sub2=int(input(\"Enter marks in second subject:\"))\n",
    "sub3=int(input(\"Enter marks in third subject:\"))\n",
    "sub4=int(input(\"Enter marks in fourth subject:\"))\n",
    "sub5=int(input(\"Enter marks in fifth subject:\"))\n",
    "total=sub1+sub2+sub3+sub4+sub5\n",
    "pct=(total/500)*100\n",
    "\n",
    "if(pct>75):\n",
    "    division='Distinction'\n",
    "elif(pct>=60):\n",
    "    division='Class-I'\n",
    "elif(pct>=50 and pct<=59):\n",
    "    division='Class-II'\n",
    "elif(pct>=40 and pct<=49):\n",
    "    division='Class-III'\n",
    "else:\n",
    "    division='Fail'\n",
    "\n",
    "print(\"Percentage:\",pct,\"%\")\n",
    "print(\"Division:\",division)\n"
   ]
  },
  {
   "cell_type": "code",
   "execution_count": null,
   "id": "4f218a6d",
   "metadata": {},
   "outputs": [],
   "source": []
  }
 ],
 "metadata": {
  "kernelspec": {
   "display_name": "Python 3 (ipykernel)",
   "language": "python",
   "name": "python3"
  },
  "language_info": {
   "codemirror_mode": {
    "name": "ipython",
    "version": 3
   },
   "file_extension": ".py",
   "mimetype": "text/x-python",
   "name": "python",
   "nbconvert_exporter": "python",
   "pygments_lexer": "ipython3",
   "version": "3.11.5"
  }
 },
 "nbformat": 4,
 "nbformat_minor": 5
}
