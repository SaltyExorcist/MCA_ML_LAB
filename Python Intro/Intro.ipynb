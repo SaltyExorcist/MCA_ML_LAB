{
 "cells": [
  {
   "cell_type": "markdown",
   "id": "265743b5",
   "metadata": {},
   "source": [
    "### Intro to AI Lab"
   ]
  },
  {
   "cell_type": "code",
   "execution_count": 6,
   "id": "d9477c10",
   "metadata": {},
   "outputs": [
    {
     "name": "stdout",
     "output_type": "stream",
     "text": [
      "Enter a no:5\n",
      "Factorial: 120\n"
     ]
    }
   ],
   "source": [
    "x=int(input(\"Enter a no:\"))\n",
    "fact=1\n",
    "for i in range(1,x+1):\n",
    "    fact=fact*i\n",
    "print(\"Factorial:\",fact)"
   ]
  },
  {
   "cell_type": "code",
   "execution_count": 8,
   "id": "cb425d51",
   "metadata": {},
   "outputs": [
    {
     "name": "stdout",
     "output_type": "stream",
     "text": [
      "Sorted Array:\n",
      "1\n",
      "3\n",
      "4\n",
      "5\n",
      "7\n"
     ]
    }
   ],
   "source": [
    "arr=[5,7,3,1,4]\n",
    "for i in range(0,5):\n",
    "    for j in range(0,5-i-1):\n",
    "        if(arr[j]>arr[j+1]):\n",
    "            temp=arr[j]\n",
    "            arr[j]=arr[j+1]\n",
    "            arr[j+1]=temp\n",
    "\n",
    "print(\"Sorted Array:\")\n",
    "for i in range(0,5):\n",
    "    print(arr[i])\n",
    "    \n",
    "\n",
    "            "
   ]
  },
  {
   "cell_type": "code",
   "execution_count": 9,
   "id": "5212f767",
   "metadata": {},
   "outputs": [
    {
     "name": "stdout",
     "output_type": "stream",
     "text": [
      "Hello World!\n"
     ]
    }
   ],
   "source": [
    "print(\"Hello World!\")"
   ]
  },
  {
   "cell_type": "code",
   "execution_count": 10,
   "id": "75bb3485",
   "metadata": {},
   "outputs": [
    {
     "data": {
      "text/plain": [
       "False"
      ]
     },
     "execution_count": 10,
     "metadata": {},
     "output_type": "execute_result"
    }
   ],
   "source": [
    "3>5"
   ]
  },
  {
   "cell_type": "code",
   "execution_count": 11,
   "id": "745aa3e6",
   "metadata": {},
   "outputs": [
    {
     "name": "stdout",
     "output_type": "stream",
     "text": [
      "3 + 5 is 8\n"
     ]
    }
   ],
   "source": [
    "print('3 + 5 is',3+5)"
   ]
  },
  {
   "cell_type": "code",
   "execution_count": 15,
   "id": "0f895df5",
   "metadata": {},
   "outputs": [
    {
     "name": "stdout",
     "output_type": "stream",
     "text": [
      "How old are you:21\n",
      "You are 21 years old\n"
     ]
    }
   ],
   "source": [
    "age=int(input('How old are you:'))\n",
    "print('You are',age,'years old')"
   ]
  },
  {
   "cell_type": "code",
   "execution_count": 22,
   "id": "fb30902d",
   "metadata": {},
   "outputs": [
    {
     "data": {
      "text/plain": [
       "int"
      ]
     },
     "execution_count": 22,
     "metadata": {},
     "output_type": "execute_result"
    }
   ],
   "source": [
    "type(500)"
   ]
  },
  {
   "cell_type": "code",
   "execution_count": 23,
   "id": "ac477f4c",
   "metadata": {},
   "outputs": [
    {
     "data": {
      "text/plain": [
       "int"
      ]
     },
     "execution_count": 23,
     "metadata": {},
     "output_type": "execute_result"
    }
   ],
   "source": [
    "type(-200)"
   ]
  },
  {
   "cell_type": "code",
   "execution_count": 24,
   "id": "e6530834",
   "metadata": {},
   "outputs": [
    {
     "data": {
      "text/plain": [
       "float"
      ]
     },
     "execution_count": 24,
     "metadata": {},
     "output_type": "execute_result"
    }
   ],
   "source": [
    "type(3.1413)"
   ]
  },
  {
   "cell_type": "code",
   "execution_count": 25,
   "id": "b80224bd",
   "metadata": {},
   "outputs": [
    {
     "data": {
      "text/plain": [
       "bool"
      ]
     },
     "execution_count": 25,
     "metadata": {},
     "output_type": "execute_result"
    }
   ],
   "source": [
    "type(True)"
   ]
  },
  {
   "cell_type": "code",
   "execution_count": 26,
   "id": "4c405600",
   "metadata": {},
   "outputs": [
    {
     "data": {
      "text/plain": [
       "str"
      ]
     },
     "execution_count": 26,
     "metadata": {},
     "output_type": "execute_result"
    }
   ],
   "source": [
    "type('Hello Class')"
   ]
  },
  {
   "cell_type": "code",
   "execution_count": 27,
   "id": "a26e0b47",
   "metadata": {},
   "outputs": [
    {
     "data": {
      "text/plain": [
       "bool"
      ]
     },
     "execution_count": 27,
     "metadata": {},
     "output_type": "execute_result"
    }
   ],
   "source": [
    "type(3!=2)"
   ]
  },
  {
   "cell_type": "code",
   "execution_count": 33,
   "id": "c34cdd77",
   "metadata": {},
   "outputs": [
    {
     "data": {
      "text/plain": [
       "2"
      ]
     },
     "execution_count": 33,
     "metadata": {},
     "output_type": "execute_result"
    }
   ],
   "source": [
    "int(2.5)"
   ]
  },
  {
   "cell_type": "code",
   "execution_count": 34,
   "id": "e121728d",
   "metadata": {},
   "outputs": [
    {
     "data": {
      "text/plain": [
       "2"
      ]
     },
     "execution_count": 34,
     "metadata": {},
     "output_type": "execute_result"
    }
   ],
   "source": [
    "int(2.3)"
   ]
  },
  {
   "cell_type": "code",
   "execution_count": 35,
   "id": "f7506d8c",
   "metadata": {},
   "outputs": [
    {
     "data": {
      "text/plain": [
       "3"
      ]
     },
     "execution_count": 35,
     "metadata": {},
     "output_type": "execute_result"
    }
   ],
   "source": [
    "int(3.9)"
   ]
  },
  {
   "cell_type": "code",
   "execution_count": 32,
   "id": "31167e15",
   "metadata": {},
   "outputs": [
    {
     "data": {
      "text/plain": [
       "3.0"
      ]
     },
     "execution_count": 32,
     "metadata": {},
     "output_type": "execute_result"
    }
   ],
   "source": [
    "float(3)"
   ]
  },
  {
   "cell_type": "code",
   "execution_count": 31,
   "id": "9503542a",
   "metadata": {},
   "outputs": [
    {
     "data": {
      "text/plain": [
       "73"
      ]
     },
     "execution_count": 31,
     "metadata": {},
     "output_type": "execute_result"
    }
   ],
   "source": [
    "int('73')"
   ]
  },
  {
   "cell_type": "code",
   "execution_count": 36,
   "id": "93889bd9",
   "metadata": {},
   "outputs": [
    {
     "name": "stdout",
     "output_type": "stream",
     "text": [
      "In 5 years, your age will be  26\n"
     ]
    }
   ],
   "source": [
    "print(\"In 5 years, your age will be \",int(age)+5)"
   ]
  },
  {
   "cell_type": "code",
   "execution_count": 44,
   "id": "c6275953",
   "metadata": {},
   "outputs": [
    {
     "name": "stdout",
     "output_type": "stream",
     "text": [
      "Enter first no:5\n",
      "Enter second no:2\n",
      "Addition of x and y: 7\n",
      "Subtraction of x and y: 3\n",
      "Multiplication of x and y: 10\n",
      "Division of x and y: 2.5\n",
      "Modulus of x and y: 1\n"
     ]
    }
   ],
   "source": [
    "x=int(input(\"Enter first no:\"))\n",
    "y=int(input(\"Enter second no:\"))\n",
    "print('Addition of x and y:',x+y)\n",
    "print('Subtraction of x and y:',x-y)\n",
    "print('Multiplication of x and y:',x*y)\n",
    "print('Division of x and y:',x/y)\n",
    "print('Modulus of x and y:',x%y)"
   ]
  },
  {
   "cell_type": "code",
   "execution_count": 43,
   "id": "b42fac78",
   "metadata": {},
   "outputs": [
    {
     "name": "stdout",
     "output_type": "stream",
     "text": [
      "8\n"
     ]
    }
   ],
   "source": [
    "print(2**3)"
   ]
  },
  {
   "cell_type": "code",
   "execution_count": 45,
   "id": "ffcc19f2",
   "metadata": {},
   "outputs": [],
   "source": [
    "w,z=10,20"
   ]
  },
  {
   "cell_type": "code",
   "execution_count": 46,
   "id": "024093ec",
   "metadata": {},
   "outputs": [],
   "source": [
    "w,z=z+1,w+1"
   ]
  },
  {
   "cell_type": "code",
   "execution_count": 47,
   "id": "d915cca7",
   "metadata": {},
   "outputs": [
    {
     "name": "stdout",
     "output_type": "stream",
     "text": [
      "21 11\n"
     ]
    }
   ],
   "source": [
    "print(w,z)"
   ]
  },
  {
   "cell_type": "code",
   "execution_count": null,
   "id": "76b60e4f",
   "metadata": {},
   "outputs": [],
   "source": []
  }
 ],
 "metadata": {
  "kernelspec": {
   "display_name": "Python 3 (ipykernel)",
   "language": "python",
   "name": "python3"
  },
  "language_info": {
   "codemirror_mode": {
    "name": "ipython",
    "version": 3
   },
   "file_extension": ".py",
   "mimetype": "text/x-python",
   "name": "python",
   "nbconvert_exporter": "python",
   "pygments_lexer": "ipython3",
   "version": "3.11.5"
  }
 },
 "nbformat": 4,
 "nbformat_minor": 5
}
