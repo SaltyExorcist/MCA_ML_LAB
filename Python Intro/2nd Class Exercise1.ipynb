{
 "cells": [
  {
   "cell_type": "markdown",
   "id": "3205f5ab",
   "metadata": {},
   "source": [
    "#### Question 1"
   ]
  },
  {
   "cell_type": "code",
   "execution_count": 1,
   "id": "7c1a071e",
   "metadata": {},
   "outputs": [
    {
     "name": "stdout",
     "output_type": "stream",
     "text": [
      "Enter the principal amount:10000\n",
      "Enter the rate of interest:5.5\n",
      "Enter the time period:2\n",
      "SI: 1100.0\n"
     ]
    }
   ],
   "source": [
    "p=int(input(\"Enter the principal amount:\"))\n",
    "r=float(input(\"Enter the rate of interest:\"))\n",
    "t=int(input(\"Enter the time period:\"))\n",
    "si=(p*r*t)/100\n",
    "print(\"SI:\",si)"
   ]
  },
  {
   "cell_type": "markdown",
   "id": "519dea7a",
   "metadata": {},
   "source": [
    "#### Question 2"
   ]
  },
  {
   "cell_type": "code",
   "execution_count": 11,
   "id": "ed2a84a3",
   "metadata": {},
   "outputs": [
    {
     "name": "stdout",
     "output_type": "stream",
     "text": [
      "Enter the temperature in fahrenheit:131\n",
      "Temp in celcius: 55.0\n"
     ]
    }
   ],
   "source": [
    "f=float(input(\"Enter the temperature in fahrenheit:\"))\n",
    "c=(5/9)*(f-32)\n",
    "print(\"Temp in celcius:\",c)"
   ]
  },
  {
   "cell_type": "markdown",
   "id": "aeeaf502",
   "metadata": {},
   "source": [
    "#### Question 3"
   ]
  },
  {
   "cell_type": "code",
   "execution_count": 16,
   "id": "a444f7f4",
   "metadata": {},
   "outputs": [
    {
     "name": "stdout",
     "output_type": "stream",
     "text": [
      "Enter the radius of sphere:3\n",
      "Volume of sphere: 113.04\n",
      "Area of sphere: 113.04\n"
     ]
    }
   ],
   "source": [
    "r=float(input(\"Enter the radius of sphere:\"))\n",
    "pi=3.14\n",
    "v=(4*pi*r**3)/3\n",
    "a=4*pi*r**2\n",
    "print(\"Volume of sphere:\",v)\n",
    "print(\"Area of sphere:\",a)"
   ]
  },
  {
   "cell_type": "markdown",
   "id": "005cfb0a",
   "metadata": {},
   "source": [
    "#### Question 4"
   ]
  },
  {
   "cell_type": "code",
   "execution_count": 12,
   "id": "f4aae581",
   "metadata": {},
   "outputs": [
    {
     "name": "stdout",
     "output_type": "stream",
     "text": [
      "Enter the first number:7\n",
      "Enter the second number:11\n",
      "Numbers before swapping:\n",
      "a: 7\n",
      "b: 11\n",
      "Numbers after swapping:\n",
      "a: 11\n",
      "b: 7\n"
     ]
    }
   ],
   "source": [
    "a=int(input(\"Enter the first number:\"))\n",
    "b=int(input(\"Enter the second number:\"))\n",
    "print(\"Numbers before swapping:\")\n",
    "print(\"a:\",a)\n",
    "print(\"b:\",b)\n",
    "a=a+b\n",
    "b=a-b\n",
    "a=a-b\n",
    "print(\"Numbers after swapping:\")\n",
    "print(\"a:\",a)\n",
    "print(\"b:\",b)"
   ]
  },
  {
   "cell_type": "code",
   "execution_count": null,
   "id": "e17d2295",
   "metadata": {},
   "outputs": [],
   "source": []
  }
 ],
 "metadata": {
  "kernelspec": {
   "display_name": "Python 3 (ipykernel)",
   "language": "python",
   "name": "python3"
  },
  "language_info": {
   "codemirror_mode": {
    "name": "ipython",
    "version": 3
   },
   "file_extension": ".py",
   "mimetype": "text/x-python",
   "name": "python",
   "nbconvert_exporter": "python",
   "pygments_lexer": "ipython3",
   "version": "3.11.5"
  }
 },
 "nbformat": 4,
 "nbformat_minor": 5
}
