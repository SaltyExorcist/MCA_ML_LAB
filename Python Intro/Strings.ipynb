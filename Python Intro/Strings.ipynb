{
 "cells": [
  {
   "cell_type": "markdown",
   "id": "654767df-e601-4704-b883-ece8d2cebbe2",
   "metadata": {},
   "source": [
    "## String"
   ]
  },
  {
   "cell_type": "markdown",
   "id": "a44da074-9e41-4cbf-ad2e-11e7e9c1c2b4",
   "metadata": {},
   "source": [
    "#### Length"
   ]
  },
  {
   "cell_type": "code",
   "execution_count": 2,
   "id": "baa1fac1-1a41-42bf-9b74-7d5088d67f8d",
   "metadata": {
    "tags": []
   },
   "outputs": [
    {
     "data": {
      "text/plain": [
       "15"
      ]
     },
     "execution_count": 2,
     "metadata": {},
     "output_type": "execute_result"
    }
   ],
   "source": [
    "name='Intro to python'\n",
    "empty=''\n",
    "single='a'\n",
    "len(name)"
   ]
  },
  {
   "cell_type": "code",
   "execution_count": 3,
   "id": "015961ec-6b99-4e42-aa01-53563467b08f",
   "metadata": {
    "tags": []
   },
   "outputs": [
    {
     "data": {
      "text/plain": [
       "1"
      ]
     },
     "execution_count": 3,
     "metadata": {},
     "output_type": "execute_result"
    }
   ],
   "source": [
    "len(single)"
   ]
  },
  {
   "cell_type": "code",
   "execution_count": 4,
   "id": "f6c7e626-ec3a-46c3-9a2b-90485e2c284a",
   "metadata": {
    "tags": []
   },
   "outputs": [
    {
     "data": {
      "text/plain": [
       "0"
      ]
     },
     "execution_count": 4,
     "metadata": {},
     "output_type": "execute_result"
    }
   ],
   "source": [
    "len(empty)"
   ]
  },
  {
   "cell_type": "code",
   "execution_count": 5,
   "id": "6a1b1baf-f5d0-46d6-ac0a-c39ee5d5d72b",
   "metadata": {
    "tags": []
   },
   "outputs": [
    {
     "data": {
      "text/plain": [
       "3"
      ]
     },
     "execution_count": 5,
     "metadata": {},
     "output_type": "execute_result"
    }
   ],
   "source": [
    "special='1\\n2'\n",
    "len(special)"
   ]
  },
  {
   "cell_type": "markdown",
   "id": "6c2f48b0-f57d-4793-8bf5-221fb6dfcd7d",
   "metadata": {},
   "source": [
    "#### Concatenation and Repeat"
   ]
  },
  {
   "cell_type": "code",
   "execution_count": 8,
   "id": "72cc807a-47fb-4658-a5e2-3fc975540b1c",
   "metadata": {
    "tags": []
   },
   "outputs": [
    {
     "name": "stdin",
     "output_type": "stream",
     "text": [
      "Enter the first string: I \n",
      "Enter the second string: am\n",
      "Enter the third string: Legend\n"
     ]
    },
    {
     "name": "stdout",
     "output_type": "stream",
     "text": [
      "I  am\n"
     ]
    }
   ],
   "source": [
    "s1=input('Enter the first string:')\n",
    "s2=input('Enter the second string:')\n",
    "s3=input('Enter the third string:')\n",
    "print(s1+' '+s2)"
   ]
  },
  {
   "cell_type": "code",
   "execution_count": 9,
   "id": "1bdf0ca0-efca-4397-8cd1-434e17df6177",
   "metadata": {
    "tags": []
   },
   "outputs": [
    {
     "name": "stdout",
     "output_type": "stream",
     "text": [
      "LegendLegendLegend\n"
     ]
    }
   ],
   "source": [
    "print(s3*3)"
   ]
  },
  {
   "cell_type": "markdown",
   "id": "58f57b98-bfcc-4d03-86e5-693ad9c43127",
   "metadata": {},
   "source": [
    "#### Indexing"
   ]
  },
  {
   "cell_type": "code",
   "execution_count": 11,
   "id": "2441f4a6-a113-458e-9428-6ccbdc42bb49",
   "metadata": {
    "tags": []
   },
   "outputs": [
    {
     "data": {
      "text/plain": [
       "'A'"
      ]
     },
     "execution_count": 11,
     "metadata": {},
     "output_type": "execute_result"
    }
   ],
   "source": [
    "str='Acads'\n",
    "str[0]"
   ]
  },
  {
   "cell_type": "code",
   "execution_count": 12,
   "id": "cb628997-8525-4f19-98dc-68b40b7210ae",
   "metadata": {
    "tags": []
   },
   "outputs": [
    {
     "data": {
      "text/plain": [
       "'d'"
      ]
     },
     "execution_count": 12,
     "metadata": {},
     "output_type": "execute_result"
    }
   ],
   "source": [
    "str[3]"
   ]
  },
  {
   "cell_type": "code",
   "execution_count": 13,
   "id": "d0849126-286f-4de8-9ba5-1ca2885868a6",
   "metadata": {
    "tags": []
   },
   "outputs": [
    {
     "data": {
      "text/plain": [
       "'e'"
      ]
     },
     "execution_count": 13,
     "metadata": {},
     "output_type": "execute_result"
    }
   ],
   "source": [
    "'Hello'[1]"
   ]
  },
  {
   "cell_type": "code",
   "execution_count": 16,
   "id": "8c5bdd35-0598-4472-b34a-2a3ff433317e",
   "metadata": {
    "tags": []
   },
   "outputs": [
    {
     "data": {
      "text/plain": [
       "'s'"
      ]
     },
     "execution_count": 16,
     "metadata": {},
     "output_type": "execute_result"
    }
   ],
   "source": [
    "str[-1]"
   ]
  },
  {
   "cell_type": "code",
   "execution_count": 17,
   "id": "478cf0cd-746e-422f-ba51-fa0428ad77ed",
   "metadata": {
    "tags": []
   },
   "outputs": [
    {
     "data": {
      "text/plain": [
       "'A'"
      ]
     },
     "execution_count": 17,
     "metadata": {},
     "output_type": "execute_result"
    }
   ],
   "source": [
    "str[-5]"
   ]
  },
  {
   "cell_type": "code",
   "execution_count": 18,
   "id": "7c8ee06f-f628-4b45-9f45-59ec012e7312",
   "metadata": {
    "tags": []
   },
   "outputs": [
    {
     "data": {
      "text/plain": [
       "'d'"
      ]
     },
     "execution_count": 18,
     "metadata": {},
     "output_type": "execute_result"
    }
   ],
   "source": [
    "str[-2]"
   ]
  },
  {
   "cell_type": "code",
   "execution_count": 19,
   "id": "edebdaa9-cc58-421d-97c3-cbdd856c56af",
   "metadata": {
    "tags": []
   },
   "outputs": [
    {
     "ename": "IndexError",
     "evalue": "string index out of range",
     "output_type": "error",
     "traceback": [
      "\u001b[1;31m---------------------------------------------------------------------------\u001b[0m",
      "\u001b[1;31mIndexError\u001b[0m                                Traceback (most recent call last)",
      "Cell \u001b[1;32mIn[19], line 1\u001b[0m\n\u001b[1;32m----> 1\u001b[0m \u001b[38;5;28mstr\u001b[39m[\u001b[38;5;241m50\u001b[39m]\n",
      "\u001b[1;31mIndexError\u001b[0m: string index out of range"
     ]
    }
   ],
   "source": [
    "str[50]"
   ]
  },
  {
   "cell_type": "code",
   "execution_count": 20,
   "id": "7324baea-b250-4d89-b68d-66ae78390bac",
   "metadata": {
    "tags": []
   },
   "outputs": [
    {
     "ename": "IndexError",
     "evalue": "string index out of range",
     "output_type": "error",
     "traceback": [
      "\u001b[1;31m---------------------------------------------------------------------------\u001b[0m",
      "\u001b[1;31mIndexError\u001b[0m                                Traceback (most recent call last)",
      "Cell \u001b[1;32mIn[20], line 1\u001b[0m\n\u001b[1;32m----> 1\u001b[0m name[\u001b[38;5;241m-\u001b[39m\u001b[38;5;241m50\u001b[39m]\n",
      "\u001b[1;31mIndexError\u001b[0m: string index out of range"
     ]
    }
   ],
   "source": [
    "name[-50]"
   ]
  },
  {
   "cell_type": "markdown",
   "id": "52a43a82-d3ba-46f8-ace2-b1ee7b78e412",
   "metadata": {},
   "source": [
    "#### Slicing"
   ]
  },
  {
   "cell_type": "code",
   "execution_count": 21,
   "id": "2fa00756-f778-4651-b5dc-528c2c3bf09a",
   "metadata": {
    "tags": []
   },
   "outputs": [
    {
     "data": {
      "text/plain": [
       "'Aca'"
      ]
     },
     "execution_count": 21,
     "metadata": {},
     "output_type": "execute_result"
    }
   ],
   "source": [
    "str[0:3]"
   ]
  },
  {
   "cell_type": "code",
   "execution_count": 22,
   "id": "b0da360e-b6c4-426f-9578-a0a9a89940b8",
   "metadata": {
    "tags": []
   },
   "outputs": [
    {
     "data": {
      "text/plain": [
       "'Aca'"
      ]
     },
     "execution_count": 22,
     "metadata": {},
     "output_type": "execute_result"
    }
   ],
   "source": [
    "str[:3]"
   ]
  },
  {
   "cell_type": "code",
   "execution_count": 23,
   "id": "27b5815b-b17c-40cd-8f47-2c7f2f397ce8",
   "metadata": {
    "tags": []
   },
   "outputs": [
    {
     "data": {
      "text/plain": [
       "'ds'"
      ]
     },
     "execution_count": 23,
     "metadata": {},
     "output_type": "execute_result"
    }
   ],
   "source": [
    "str[3:]"
   ]
  },
  {
   "cell_type": "code",
   "execution_count": 24,
   "id": "4ef3cbf9-c218-40c6-ba1a-1e32a9c51a05",
   "metadata": {
    "tags": []
   },
   "outputs": [
    {
     "data": {
      "text/plain": [
       "'Acads'"
      ]
     },
     "execution_count": 24,
     "metadata": {},
     "output_type": "execute_result"
    }
   ],
   "source": [
    "str[:3]+str[3:]"
   ]
  },
  {
   "cell_type": "code",
   "execution_count": 27,
   "id": "c1967684-30a0-4b98-96ab-f9cbd61c5f15",
   "metadata": {
    "tags": []
   },
   "outputs": [
    {
     "data": {
      "text/plain": [
       "'Acads'"
      ]
     },
     "execution_count": 27,
     "metadata": {},
     "output_type": "execute_result"
    }
   ],
   "source": [
    "str[0:len(str)]"
   ]
  },
  {
   "cell_type": "raw",
   "id": "f0d638da-88f7-4491-a677-887d1e0437b4",
   "metadata": {},
   "source": [
    "str[:]"
   ]
  },
  {
   "cell_type": "code",
   "execution_count": 28,
   "id": "6c0d306a-49d9-4df0-97de-d916302a0e76",
   "metadata": {
    "tags": []
   },
   "outputs": [
    {
     "data": {
      "text/plain": [
       "'cad'"
      ]
     },
     "execution_count": 28,
     "metadata": {},
     "output_type": "execute_result"
    }
   ],
   "source": [
    "str[-4:-1]"
   ]
  },
  {
   "cell_type": "code",
   "execution_count": 29,
   "id": "89f2a17d-0e37-4a94-96ee-6db35ae67c65",
   "metadata": {
    "tags": []
   },
   "outputs": [
    {
     "data": {
      "text/plain": [
       "'cads'"
      ]
     },
     "execution_count": 29,
     "metadata": {},
     "output_type": "execute_result"
    }
   ],
   "source": [
    "str[-4:]"
   ]
  },
  {
   "cell_type": "code",
   "execution_count": 30,
   "id": "55cc21e1-a166-429d-a621-6e1c2d99ef01",
   "metadata": {
    "tags": []
   },
   "outputs": [
    {
     "data": {
      "text/plain": [
       "'cad'"
      ]
     },
     "execution_count": 30,
     "metadata": {},
     "output_type": "execute_result"
    }
   ],
   "source": [
    "str[-4:4]"
   ]
  },
  {
   "cell_type": "code",
   "execution_count": null,
   "id": "91891f74-fbfa-4c80-a749-a150695e155d",
   "metadata": {},
   "outputs": [],
   "source": []
  }
 ],
 "metadata": {
  "kernelspec": {
   "display_name": "Python 3 (ipykernel)",
   "language": "python",
   "name": "python3"
  },
  "language_info": {
   "codemirror_mode": {
    "name": "ipython",
    "version": 3
   },
   "file_extension": ".py",
   "mimetype": "text/x-python",
   "name": "python",
   "nbconvert_exporter": "python",
   "pygments_lexer": "ipython3",
   "version": "3.11.5"
  }
 },
 "nbformat": 4,
 "nbformat_minor": 5
}
