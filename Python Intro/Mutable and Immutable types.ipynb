{
 "cells": [
  {
   "cell_type": "markdown",
   "id": "156a10eb-9585-46eb-8e49-7a32e4add8e9",
   "metadata": {},
   "source": [
    "### Mutable and Immutable Types"
   ]
  },
  {
   "cell_type": "markdown",
   "id": "4ec10ba7-1ab3-43f7-bd64-aa59b17855e4",
   "metadata": {},
   "source": [
    "Lists are mutable.\n",
    "Strings and Tuples are immutable."
   ]
  },
  {
   "cell_type": "code",
   "execution_count": null,
   "id": "caecabee-67cd-4bd0-bcb5-7219e38ead55",
   "metadata": {},
   "outputs": [],
   "source": []
  }
 ],
 "metadata": {
  "kernelspec": {
   "display_name": "Python 3 (ipykernel)",
   "language": "python",
   "name": "python3"
  },
  "language_info": {
   "codemirror_mode": {
    "name": "ipython",
    "version": 3
   },
   "file_extension": ".py",
   "mimetype": "text/x-python",
   "name": "python",
   "nbconvert_exporter": "python",
   "pygments_lexer": "ipython3",
   "version": "3.11.5"
  }
 },
 "nbformat": 4,
 "nbformat_minor": 5
}
