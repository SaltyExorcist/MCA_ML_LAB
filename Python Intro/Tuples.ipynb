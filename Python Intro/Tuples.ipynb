{
 "cells": [
  {
   "cell_type": "markdown",
   "id": "cf9e5d32-6153-4ee0-a5c7-8bb5ca0e2ee5",
   "metadata": {},
   "source": [
    "### Tuples"
   ]
  },
  {
   "cell_type": "markdown",
   "id": "2920bd1e-8cf6-49fb-ba55-4121412e8b55",
   "metadata": {},
   "source": [
    "##### Intro"
   ]
  },
  {
   "cell_type": "code",
   "execution_count": 1,
   "id": "45ff4814-640a-442f-86e6-81342c587a63",
   "metadata": {
    "tags": []
   },
   "outputs": [
    {
     "data": {
      "text/plain": [
       "'Intro to python'"
      ]
     },
     "execution_count": 1,
     "metadata": {},
     "output_type": "execute_result"
    }
   ],
   "source": [
    "t='Intro to python','Amey Karkare',101\n",
    "t[0]"
   ]
  },
  {
   "cell_type": "code",
   "execution_count": 2,
   "id": "4a44c6ce-130a-4ef3-a684-045ea70f1a1b",
   "metadata": {
    "tags": []
   },
   "outputs": [
    {
     "data": {
      "text/plain": [
       "('Intro to python', 'Amey Karkare', 101)"
      ]
     },
     "execution_count": 2,
     "metadata": {},
     "output_type": "execute_result"
    }
   ],
   "source": [
    "t"
   ]
  },
  {
   "cell_type": "code",
   "execution_count": 3,
   "id": "61aa2075-bc9a-4c88-96a1-9da00d9874c0",
   "metadata": {
    "tags": []
   },
   "outputs": [
    {
     "data": {
      "text/plain": [
       "tuple"
      ]
     },
     "execution_count": 3,
     "metadata": {},
     "output_type": "execute_result"
    }
   ],
   "source": [
    "type(t)"
   ]
  },
  {
   "cell_type": "markdown",
   "id": "c43da95f-e6f5-4cdc-996a-d76c06b7a652",
   "metadata": {},
   "source": [
    "##### Empty and Singleton tuple"
   ]
  },
  {
   "cell_type": "code",
   "execution_count": 11,
   "id": "6bdcad63-b0a1-422a-a862-fc2c6084006b",
   "metadata": {
    "tags": []
   },
   "outputs": [],
   "source": [
    "empty=()\n",
    "singleton=1,"
   ]
  },
  {
   "cell_type": "markdown",
   "id": "e589189a-4df4-470a-bbc8-b87f8ad226ef",
   "metadata": {},
   "source": [
    "##### Nested Tuples"
   ]
  },
  {
   "cell_type": "code",
   "execution_count": 18,
   "id": "4d936afe-8b4b-4678-b020-3184ca64da72",
   "metadata": {
    "tags": []
   },
   "outputs": [
    {
     "data": {
      "text/plain": [
       "('Prasanna', 34, ('Python', 'Amey', 101))"
      ]
     },
     "execution_count": 18,
     "metadata": {},
     "output_type": "execute_result"
    }
   ],
   "source": [
    "course1='Python','Amey',101\n",
    "student='Prasanna',34,course1\n",
    "student"
   ]
  },
  {
   "cell_type": "code",
   "execution_count": 19,
   "id": "e9685d45-fadc-47ea-9ef7-32cfca81ed28",
   "metadata": {
    "tags": []
   },
   "outputs": [
    {
     "data": {
      "text/plain": [
       "('Prasanna', 34, ('Python', 'Amey', 101))"
      ]
     },
     "execution_count": 19,
     "metadata": {},
     "output_type": "execute_result"
    }
   ],
   "source": [
    "course2='Stats','Adam',102\n",
    "student"
   ]
  },
  {
   "cell_type": "code",
   "execution_count": 21,
   "id": "a22e51fe-64bf-4353-b7f9-617f059aef61",
   "metadata": {
    "tags": []
   },
   "outputs": [
    {
     "data": {
      "text/plain": [
       "('Stats', 'Adam', 102)"
      ]
     },
     "execution_count": 21,
     "metadata": {},
     "output_type": "execute_result"
    }
   ],
   "source": [
    "course2"
   ]
  },
  {
   "cell_type": "markdown",
   "id": "0c60a9be-ba7b-4c43-b1db-b692a4c0e0ae",
   "metadata": {},
   "source": [
    "##### Length of a Tuple"
   ]
  },
  {
   "cell_type": "code",
   "execution_count": 14,
   "id": "27b8a20c-7b11-421b-ac97-cb83a6523898",
   "metadata": {
    "tags": []
   },
   "outputs": [
    {
     "data": {
      "text/plain": [
       "0"
      ]
     },
     "execution_count": 14,
     "metadata": {},
     "output_type": "execute_result"
    }
   ],
   "source": [
    "len(empty)"
   ]
  },
  {
   "cell_type": "code",
   "execution_count": 15,
   "id": "253b4fe1-61b5-497b-9c4f-75b5bac39ac2",
   "metadata": {
    "tags": []
   },
   "outputs": [
    {
     "data": {
      "text/plain": [
       "1"
      ]
     },
     "execution_count": 15,
     "metadata": {},
     "output_type": "execute_result"
    }
   ],
   "source": [
    "len(singleton)"
   ]
  },
  {
   "cell_type": "code",
   "execution_count": 16,
   "id": "aa522e82-374a-491c-b720-8dd64ea96403",
   "metadata": {
    "tags": []
   },
   "outputs": [
    {
     "data": {
      "text/plain": [
       "3"
      ]
     },
     "execution_count": 16,
     "metadata": {},
     "output_type": "execute_result"
    }
   ],
   "source": [
    "len(course)"
   ]
  },
  {
   "cell_type": "code",
   "execution_count": 17,
   "id": "ec40fc23-52d4-4c09-9139-127a467b4785",
   "metadata": {
    "tags": []
   },
   "outputs": [
    {
     "data": {
      "text/plain": [
       "3"
      ]
     },
     "execution_count": 17,
     "metadata": {},
     "output_type": "execute_result"
    }
   ],
   "source": [
    "len(student)"
   ]
  },
  {
   "cell_type": "markdown",
   "id": "fda87837-5ede-443c-a225-0dbab39bb8a3",
   "metadata": {},
   "source": [
    "##### More operations on Tuples"
   ]
  },
  {
   "cell_type": "code",
   "execution_count": 22,
   "id": "aa57d2aa-ff46-4e22-ba27-999eb8f061d7",
   "metadata": {
    "tags": []
   },
   "outputs": [
    {
     "data": {
      "text/plain": [
       "('Python', 'Amey', 101)"
      ]
     },
     "execution_count": 22,
     "metadata": {},
     "output_type": "execute_result"
    }
   ],
   "source": [
    "course1"
   ]
  },
  {
   "cell_type": "code",
   "execution_count": 23,
   "id": "f62c5b2e-eaa9-4902-8284-1d59ac830b7c",
   "metadata": {
    "tags": []
   },
   "outputs": [
    {
     "data": {
      "text/plain": [
       "('Stats', 'Adam', 102)"
      ]
     },
     "execution_count": 23,
     "metadata": {},
     "output_type": "execute_result"
    }
   ],
   "source": [
    "course2"
   ]
  },
  {
   "cell_type": "code",
   "execution_count": 24,
   "id": "54f6ed96-d81f-4769-b9c2-30b269083a0c",
   "metadata": {
    "tags": []
   },
   "outputs": [
    {
     "data": {
      "text/plain": [
       "('Python', 'Amey', 101, 'Stats', 'Adam', 102)"
      ]
     },
     "execution_count": 24,
     "metadata": {},
     "output_type": "execute_result"
    }
   ],
   "source": [
    "course1+course2"
   ]
  },
  {
   "cell_type": "code",
   "execution_count": 25,
   "id": "2a6c873b-0a2f-481f-8d89-e4258a4cf4ae",
   "metadata": {
    "tags": []
   },
   "outputs": [
    {
     "data": {
      "text/plain": [
       "'Stats'"
      ]
     },
     "execution_count": 25,
     "metadata": {},
     "output_type": "execute_result"
    }
   ],
   "source": [
    "(course1+course2)[3]"
   ]
  },
  {
   "cell_type": "code",
   "execution_count": 26,
   "id": "a74e0d88-5da6-4a01-ac66-f8419e0c5599",
   "metadata": {
    "tags": []
   },
   "outputs": [
    {
     "data": {
      "text/plain": [
       "(101, 'Stats', 'Adam', 102)"
      ]
     },
     "execution_count": 26,
     "metadata": {},
     "output_type": "execute_result"
    }
   ],
   "source": [
    "(course1+course2)[2:7]"
   ]
  },
  {
   "cell_type": "code",
   "execution_count": 27,
   "id": "8f3daa1e-ed90-445b-88ea-225cd331fd87",
   "metadata": {
    "tags": []
   },
   "outputs": [
    {
     "data": {
      "text/plain": [
       "('Python', 'Amey', 101, 'Python', 'Amey', 101)"
      ]
     },
     "execution_count": 27,
     "metadata": {},
     "output_type": "execute_result"
    }
   ],
   "source": [
    "course1*2"
   ]
  },
  {
   "cell_type": "markdown",
   "id": "c5c91850-2799-4ac0-b622-078a33b948ca",
   "metadata": {},
   "source": [
    "##### Unpacking Sequences"
   ]
  },
  {
   "cell_type": "code",
   "execution_count": 28,
   "id": "619523b6-1fb1-45f8-bc85-00dc47585835",
   "metadata": {
    "tags": []
   },
   "outputs": [
    {
     "data": {
      "text/plain": [
       "('Prasanna', 34, ('Python', 'Amey', 101))"
      ]
     },
     "execution_count": 28,
     "metadata": {},
     "output_type": "execute_result"
    }
   ],
   "source": [
    "student"
   ]
  },
  {
   "cell_type": "code",
   "execution_count": 29,
   "id": "aaeca3c5-0646-4e87-91f4-9bb8f11e5027",
   "metadata": {
    "tags": []
   },
   "outputs": [],
   "source": [
    "name,roll,regdcourse=student"
   ]
  },
  {
   "cell_type": "code",
   "execution_count": 30,
   "id": "36980d52-ae33-4654-ad3d-d27ecbbe38e6",
   "metadata": {
    "tags": []
   },
   "outputs": [
    {
     "data": {
      "text/plain": [
       "'Prasanna'"
      ]
     },
     "execution_count": 30,
     "metadata": {},
     "output_type": "execute_result"
    }
   ],
   "source": [
    "name"
   ]
  },
  {
   "cell_type": "code",
   "execution_count": 31,
   "id": "3078b4e6-e4ea-4050-9358-5cd071bfe0be",
   "metadata": {
    "tags": []
   },
   "outputs": [
    {
     "data": {
      "text/plain": [
       "34"
      ]
     },
     "execution_count": 31,
     "metadata": {},
     "output_type": "execute_result"
    }
   ],
   "source": [
    "roll"
   ]
  },
  {
   "cell_type": "code",
   "execution_count": 32,
   "id": "6460e630-c1bc-4247-b7f7-f25647154c1d",
   "metadata": {
    "tags": []
   },
   "outputs": [
    {
     "data": {
      "text/plain": [
       "('Python', 'Amey', 101)"
      ]
     },
     "execution_count": 32,
     "metadata": {},
     "output_type": "execute_result"
    }
   ],
   "source": [
    "regdcourse"
   ]
  },
  {
   "cell_type": "code",
   "execution_count": 33,
   "id": "94141520-56d5-4ddc-b8f2-1e62b003470f",
   "metadata": {
    "tags": []
   },
   "outputs": [],
   "source": [
    "x1,x2,x3,x4='amey'"
   ]
  },
  {
   "cell_type": "code",
   "execution_count": 34,
   "id": "b68d4bf8-23ed-46ef-8201-96a199249918",
   "metadata": {
    "tags": []
   },
   "outputs": [
    {
     "name": "stdout",
     "output_type": "stream",
     "text": [
      "a m e y\n"
     ]
    }
   ],
   "source": [
    "print(x1,x2,x3,x4)"
   ]
  },
  {
   "cell_type": "code",
   "execution_count": null,
   "id": "37a4f878-0806-4308-a9cf-42ce0a3458d9",
   "metadata": {},
   "outputs": [],
   "source": []
  }
 ],
 "metadata": {
  "kernelspec": {
   "display_name": "Python 3 (ipykernel)",
   "language": "python",
   "name": "python3"
  },
  "language_info": {
   "codemirror_mode": {
    "name": "ipython",
    "version": 3
   },
   "file_extension": ".py",
   "mimetype": "text/x-python",
   "name": "python",
   "nbconvert_exporter": "python",
   "pygments_lexer": "ipython3",
   "version": "3.11.5"
  }
 },
 "nbformat": 4,
 "nbformat_minor": 5
}
